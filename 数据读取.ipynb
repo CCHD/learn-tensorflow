{
 "cells": [
  {
   "cell_type": "markdown",
   "metadata": {},
   "source": [
    "# 数据读取  \n",
    "Tensorflow读取数据一共有3种方法:  \n",
    "- 供给数据（feeding）: 在tensorflow程序运行的每一步，让python代码来供给数据。  \n",
    "- 从文件读取数据: 在tensorflow图的起始，让一个输入管线从文件中读取数据。\n",
    "- 预加载数据: 在tensorflow图中定义常量或变量来保存所有数据（仅适用于数据量比较小的情况）。"
   ]
  },
  {
   "cell_type": "markdown",
   "metadata": {},
   "source": [
    "## 供给数据  \n",
    "tensorflow的数据供给机制允许在tensorflow运算图中将数据注入到任一张量中。因此，python运算可以把数据直接设置到tensorflow图中。  \n",
    "通过给run()或eval()函数输入**feed_dict**参数，可以启动运算过程。"
   ]
  },
  {
   "cell_type": "markdown",
   "metadata": {},
   "source": [
    "## 从文件中读取数据  \n",
    "一般典型的文件读取管线会包含下面这些步骤：  \n",
    "- 文件名列表\n",
    "- 可配置的 文件名乱序(shuffling)\n",
    "- 可配置的 最大迭代次数(epoch limit)\n",
    "- 文件名队列\n",
    "- 针对输入文件格式的阅读器\n",
    "- 记录解析器\n",
    "- 可配置的 预处理器\n",
    "- 样本队列"
   ]
  },
  {
   "cell_type": "markdown",
   "metadata": {},
   "source": [
    "### 文件名，乱序和最大迭代次数  \n",
    "可用字符串张量（比如`['file0', 'file1']`, `[('file%d)%i for i in range(2)]`）或者tf.train.match_filenames_once函数来产生文件名列表。  \n",
    "将文件名列表交给`tf.train.string_input_producer`函数。`string_input_producer`来生产一个先入先出队列，文件阅读器会需要它来读取数据。  "
   ]
  },
  {
   "cell_type": "code",
   "execution_count": null,
   "metadata": {},
   "outputs": [],
   "source": []
  }
 ],
 "metadata": {
  "kernelspec": {
   "display_name": "tensorflow",
   "language": "python",
   "name": "tensorflow"
  },
  "language_info": {
   "codemirror_mode": {
    "name": "ipython",
    "version": 3
   },
   "file_extension": ".py",
   "mimetype": "text/x-python",
   "name": "python",
   "nbconvert_exporter": "python",
   "pygments_lexer": "ipython3",
   "version": "3.6.10"
  }
 },
 "nbformat": 4,
 "nbformat_minor": 4
}
