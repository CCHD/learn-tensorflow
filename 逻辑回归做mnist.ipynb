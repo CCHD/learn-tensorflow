{
 "cells": [
  {
   "cell_type": "code",
   "execution_count": 1,
   "metadata": {},
   "outputs": [
    {
     "name": "stderr",
     "output_type": "stream",
     "text": [
      "C:\\Users\\hdc\\AppData\\Local\\Continuum\\anaconda3\\envs\\tensorflow\\lib\\site-packages\\tensorflow\\python\\framework\\dtypes.py:516: FutureWarning: Passing (type, 1) or '1type' as a synonym of type is deprecated; in a future version of numpy, it will be understood as (type, (1,)) / '(1,)type'.\n",
      "  _np_qint8 = np.dtype([(\"qint8\", np.int8, 1)])\n",
      "C:\\Users\\hdc\\AppData\\Local\\Continuum\\anaconda3\\envs\\tensorflow\\lib\\site-packages\\tensorflow\\python\\framework\\dtypes.py:517: FutureWarning: Passing (type, 1) or '1type' as a synonym of type is deprecated; in a future version of numpy, it will be understood as (type, (1,)) / '(1,)type'.\n",
      "  _np_quint8 = np.dtype([(\"quint8\", np.uint8, 1)])\n",
      "C:\\Users\\hdc\\AppData\\Local\\Continuum\\anaconda3\\envs\\tensorflow\\lib\\site-packages\\tensorflow\\python\\framework\\dtypes.py:518: FutureWarning: Passing (type, 1) or '1type' as a synonym of type is deprecated; in a future version of numpy, it will be understood as (type, (1,)) / '(1,)type'.\n",
      "  _np_qint16 = np.dtype([(\"qint16\", np.int16, 1)])\n",
      "C:\\Users\\hdc\\AppData\\Local\\Continuum\\anaconda3\\envs\\tensorflow\\lib\\site-packages\\tensorflow\\python\\framework\\dtypes.py:519: FutureWarning: Passing (type, 1) or '1type' as a synonym of type is deprecated; in a future version of numpy, it will be understood as (type, (1,)) / '(1,)type'.\n",
      "  _np_quint16 = np.dtype([(\"quint16\", np.uint16, 1)])\n",
      "C:\\Users\\hdc\\AppData\\Local\\Continuum\\anaconda3\\envs\\tensorflow\\lib\\site-packages\\tensorflow\\python\\framework\\dtypes.py:520: FutureWarning: Passing (type, 1) or '1type' as a synonym of type is deprecated; in a future version of numpy, it will be understood as (type, (1,)) / '(1,)type'.\n",
      "  _np_qint32 = np.dtype([(\"qint32\", np.int32, 1)])\n",
      "C:\\Users\\hdc\\AppData\\Local\\Continuum\\anaconda3\\envs\\tensorflow\\lib\\site-packages\\tensorflow\\python\\framework\\dtypes.py:525: FutureWarning: Passing (type, 1) or '1type' as a synonym of type is deprecated; in a future version of numpy, it will be understood as (type, (1,)) / '(1,)type'.\n",
      "  np_resource = np.dtype([(\"resource\", np.ubyte, 1)])\n",
      "C:\\Users\\hdc\\AppData\\Local\\Continuum\\anaconda3\\envs\\tensorflow\\lib\\site-packages\\tensorboard\\compat\\tensorflow_stub\\dtypes.py:541: FutureWarning: Passing (type, 1) or '1type' as a synonym of type is deprecated; in a future version of numpy, it will be understood as (type, (1,)) / '(1,)type'.\n",
      "  _np_qint8 = np.dtype([(\"qint8\", np.int8, 1)])\n",
      "C:\\Users\\hdc\\AppData\\Local\\Continuum\\anaconda3\\envs\\tensorflow\\lib\\site-packages\\tensorboard\\compat\\tensorflow_stub\\dtypes.py:542: FutureWarning: Passing (type, 1) or '1type' as a synonym of type is deprecated; in a future version of numpy, it will be understood as (type, (1,)) / '(1,)type'.\n",
      "  _np_quint8 = np.dtype([(\"quint8\", np.uint8, 1)])\n",
      "C:\\Users\\hdc\\AppData\\Local\\Continuum\\anaconda3\\envs\\tensorflow\\lib\\site-packages\\tensorboard\\compat\\tensorflow_stub\\dtypes.py:543: FutureWarning: Passing (type, 1) or '1type' as a synonym of type is deprecated; in a future version of numpy, it will be understood as (type, (1,)) / '(1,)type'.\n",
      "  _np_qint16 = np.dtype([(\"qint16\", np.int16, 1)])\n",
      "C:\\Users\\hdc\\AppData\\Local\\Continuum\\anaconda3\\envs\\tensorflow\\lib\\site-packages\\tensorboard\\compat\\tensorflow_stub\\dtypes.py:544: FutureWarning: Passing (type, 1) or '1type' as a synonym of type is deprecated; in a future version of numpy, it will be understood as (type, (1,)) / '(1,)type'.\n",
      "  _np_quint16 = np.dtype([(\"quint16\", np.uint16, 1)])\n",
      "C:\\Users\\hdc\\AppData\\Local\\Continuum\\anaconda3\\envs\\tensorflow\\lib\\site-packages\\tensorboard\\compat\\tensorflow_stub\\dtypes.py:545: FutureWarning: Passing (type, 1) or '1type' as a synonym of type is deprecated; in a future version of numpy, it will be understood as (type, (1,)) / '(1,)type'.\n",
      "  _np_qint32 = np.dtype([(\"qint32\", np.int32, 1)])\n",
      "C:\\Users\\hdc\\AppData\\Local\\Continuum\\anaconda3\\envs\\tensorflow\\lib\\site-packages\\tensorboard\\compat\\tensorflow_stub\\dtypes.py:550: FutureWarning: Passing (type, 1) or '1type' as a synonym of type is deprecated; in a future version of numpy, it will be understood as (type, (1,)) / '(1,)type'.\n",
      "  np_resource = np.dtype([(\"resource\", np.ubyte, 1)])\n"
     ]
    },
    {
     "name": "stdout",
     "output_type": "stream",
     "text": [
      "WARNING:tensorflow:From <ipython-input-1-6805dad9aebc>:5: read_data_sets (from tensorflow.contrib.learn.python.learn.datasets.mnist) is deprecated and will be removed in a future version.\n",
      "Instructions for updating:\n",
      "Please use alternatives such as official/mnist/dataset.py from tensorflow/models.\n",
      "WARNING:tensorflow:From C:\\Users\\hdc\\AppData\\Local\\Continuum\\anaconda3\\envs\\tensorflow\\lib\\site-packages\\tensorflow\\contrib\\learn\\python\\learn\\datasets\\mnist.py:260: maybe_download (from tensorflow.contrib.learn.python.learn.datasets.base) is deprecated and will be removed in a future version.\n",
      "Instructions for updating:\n",
      "Please write your own downloading logic.\n",
      "WARNING:tensorflow:From C:\\Users\\hdc\\AppData\\Local\\Continuum\\anaconda3\\envs\\tensorflow\\lib\\site-packages\\tensorflow\\contrib\\learn\\python\\learn\\datasets\\mnist.py:262: extract_images (from tensorflow.contrib.learn.python.learn.datasets.mnist) is deprecated and will be removed in a future version.\n",
      "Instructions for updating:\n",
      "Please use tf.data to implement this functionality.\n",
      "Extracting MNIST_data\\train-images-idx3-ubyte.gz\n",
      "WARNING:tensorflow:From C:\\Users\\hdc\\AppData\\Local\\Continuum\\anaconda3\\envs\\tensorflow\\lib\\site-packages\\tensorflow\\contrib\\learn\\python\\learn\\datasets\\mnist.py:267: extract_labels (from tensorflow.contrib.learn.python.learn.datasets.mnist) is deprecated and will be removed in a future version.\n",
      "Instructions for updating:\n",
      "Please use tf.data to implement this functionality.\n",
      "Extracting MNIST_data\\train-labels-idx1-ubyte.gz\n",
      "WARNING:tensorflow:From C:\\Users\\hdc\\AppData\\Local\\Continuum\\anaconda3\\envs\\tensorflow\\lib\\site-packages\\tensorflow\\contrib\\learn\\python\\learn\\datasets\\mnist.py:110: dense_to_one_hot (from tensorflow.contrib.learn.python.learn.datasets.mnist) is deprecated and will be removed in a future version.\n",
      "Instructions for updating:\n",
      "Please use tf.one_hot on tensors.\n",
      "Extracting MNIST_data\\t10k-images-idx3-ubyte.gz\n",
      "Extracting MNIST_data\\t10k-labels-idx1-ubyte.gz\n",
      "WARNING:tensorflow:From C:\\Users\\hdc\\AppData\\Local\\Continuum\\anaconda3\\envs\\tensorflow\\lib\\site-packages\\tensorflow\\contrib\\learn\\python\\learn\\datasets\\mnist.py:290: DataSet.__init__ (from tensorflow.contrib.learn.python.learn.datasets.mnist) is deprecated and will be removed in a future version.\n",
      "Instructions for updating:\n",
      "Please use alternatives such as official/mnist/dataset.py from tensorflow/models.\n"
     ]
    }
   ],
   "source": [
    "import tensorflow as tf\n",
    "import matplotlib.pyplot as plt, matplotlib.image as mpimg\n",
    "\n",
    "from tensorflow.examples.tutorials.mnist import input_data\n",
    "mnist = input_data.read_data_sets('MNIST_data', one_hot=True)"
   ]
  },
  {
   "cell_type": "markdown",
   "metadata": {},
   "source": [
    "mnist.train.images的每个元素就是一张图片，28\\*28=784的一维列向量，mnist.train.labels的每个元素就是一个标签，当one_hot是True的时候就是10的一维列向量，是False的时候就是一个标量，代表图片是几"
   ]
  },
  {
   "cell_type": "code",
   "execution_count": 2,
   "metadata": {},
   "outputs": [
    {
     "data": {
      "text/plain": [
       "array([0., 0., 0., 1., 0., 0., 0., 0., 0., 0.])"
      ]
     },
     "execution_count": 2,
     "metadata": {},
     "output_type": "execute_result"
    }
   ],
   "source": [
    "mnist.train.labels[1]"
   ]
  },
  {
   "cell_type": "code",
   "execution_count": 3,
   "metadata": {},
   "outputs": [
    {
     "data": {
      "text/plain": [
       "array([0.        , 0.        , 0.        , 0.        , 0.        ,\n",
       "       0.        , 0.        , 0.        , 0.        , 0.        ,\n",
       "       0.        , 0.        , 0.        , 0.        , 0.        ,\n",
       "       0.        , 0.        , 0.        , 0.        , 0.        ,\n",
       "       0.        , 0.        , 0.        , 0.        , 0.        ,\n",
       "       0.        , 0.        , 0.        , 0.        , 0.        ,\n",
       "       0.        , 0.        , 0.        , 0.        , 0.        ,\n",
       "       0.        , 0.        , 0.        , 0.        , 0.        ,\n",
       "       0.        , 0.        , 0.        , 0.        , 0.        ,\n",
       "       0.        , 0.        , 0.        , 0.        , 0.        ,\n",
       "       0.        , 0.        , 0.        , 0.        , 0.        ,\n",
       "       0.        , 0.        , 0.        , 0.        , 0.        ,\n",
       "       0.        , 0.        , 0.        , 0.        , 0.        ,\n",
       "       0.        , 0.        , 0.        , 0.        , 0.        ,\n",
       "       0.        , 0.        , 0.        , 0.        , 0.        ,\n",
       "       0.        , 0.        , 0.        , 0.        , 0.        ,\n",
       "       0.        , 0.        , 0.        , 0.        , 0.        ,\n",
       "       0.        , 0.        , 0.        , 0.        , 0.        ,\n",
       "       0.        , 0.        , 0.        , 0.        , 0.        ,\n",
       "       0.        , 0.        , 0.        , 0.        , 0.        ,\n",
       "       0.        , 0.        , 0.        , 0.        , 0.        ,\n",
       "       0.        , 0.        , 0.        , 0.        , 0.        ,\n",
       "       0.        , 0.        , 0.        , 0.        , 0.        ,\n",
       "       0.        , 0.        , 0.        , 0.        , 0.        ,\n",
       "       0.        , 0.        , 0.        , 0.        , 0.        ,\n",
       "       0.        , 0.        , 0.        , 0.        , 0.        ,\n",
       "       0.        , 0.        , 0.        , 0.        , 0.        ,\n",
       "       0.        , 0.        , 0.        , 0.        , 0.        ,\n",
       "       0.        , 0.        , 0.        , 0.        , 0.        ,\n",
       "       0.        , 0.        , 0.        , 0.        , 0.        ,\n",
       "       0.        , 0.        , 0.        , 0.12156864, 0.5176471 ,\n",
       "       0.9960785 , 0.9921569 , 0.9960785 , 0.8352942 , 0.32156864,\n",
       "       0.        , 0.        , 0.        , 0.        , 0.        ,\n",
       "       0.        , 0.        , 0.        , 0.        , 0.        ,\n",
       "       0.        , 0.        , 0.        , 0.        , 0.        ,\n",
       "       0.        , 0.        , 0.        , 0.        , 0.08235294,\n",
       "       0.5568628 , 0.91372555, 0.98823535, 0.9921569 , 0.98823535,\n",
       "       0.9921569 , 0.98823535, 0.8745099 , 0.07843138, 0.        ,\n",
       "       0.        , 0.        , 0.        , 0.        , 0.        ,\n",
       "       0.        , 0.        , 0.        , 0.        , 0.        ,\n",
       "       0.        , 0.        , 0.        , 0.        , 0.        ,\n",
       "       0.        , 0.48235297, 0.9960785 , 0.9921569 , 0.9960785 ,\n",
       "       0.9921569 , 0.87843144, 0.7960785 , 0.7960785 , 0.8745099 ,\n",
       "       1.        , 0.8352942 , 0.        , 0.        , 0.        ,\n",
       "       0.        , 0.        , 0.        , 0.        , 0.        ,\n",
       "       0.        , 0.        , 0.        , 0.        , 0.        ,\n",
       "       0.        , 0.        , 0.        , 0.        , 0.7960785 ,\n",
       "       0.9921569 , 0.98823535, 0.9921569 , 0.8313726 , 0.07843138,\n",
       "       0.        , 0.        , 0.2392157 , 0.9921569 , 0.98823535,\n",
       "       0.        , 0.        , 0.        , 0.        , 0.        ,\n",
       "       0.        , 0.        , 0.        , 0.        , 0.        ,\n",
       "       0.        , 0.        , 0.        , 0.        , 0.        ,\n",
       "       0.        , 0.16078432, 0.95294124, 0.87843144, 0.7960785 ,\n",
       "       0.7176471 , 0.16078432, 0.59607846, 0.11764707, 0.        ,\n",
       "       0.        , 1.        , 0.9921569 , 0.40000004, 0.        ,\n",
       "       0.        , 0.        , 0.        , 0.        , 0.        ,\n",
       "       0.        , 0.        , 0.        , 0.        , 0.        ,\n",
       "       0.        , 0.        , 0.        , 0.        , 0.        ,\n",
       "       0.15686275, 0.07843138, 0.        , 0.        , 0.40000004,\n",
       "       0.9921569 , 0.19607845, 0.        , 0.32156864, 0.9921569 ,\n",
       "       0.98823535, 0.07843138, 0.        , 0.        , 0.        ,\n",
       "       0.        , 0.        , 0.        , 0.        , 0.        ,\n",
       "       0.        , 0.        , 0.        , 0.        , 0.        ,\n",
       "       0.        , 0.        , 0.        , 0.        , 0.        ,\n",
       "       0.        , 0.        , 0.32156864, 0.83921576, 0.12156864,\n",
       "       0.4431373 , 0.91372555, 0.9960785 , 0.91372555, 0.        ,\n",
       "       0.        , 0.        , 0.        , 0.        , 0.        ,\n",
       "       0.        , 0.        , 0.        , 0.        , 0.        ,\n",
       "       0.        , 0.        , 0.        , 0.        , 0.        ,\n",
       "       0.        , 0.        , 0.24313727, 0.40000004, 0.32156864,\n",
       "       0.16078432, 0.9921569 , 0.909804  , 0.9921569 , 0.98823535,\n",
       "       0.91372555, 0.19607845, 0.        , 0.        , 0.        ,\n",
       "       0.        , 0.        , 0.        , 0.        , 0.        ,\n",
       "       0.        , 0.        , 0.        , 0.        , 0.        ,\n",
       "       0.        , 0.        , 0.        , 0.        , 0.        ,\n",
       "       0.59607846, 0.9921569 , 0.9960785 , 0.9921569 , 0.9960785 ,\n",
       "       0.9921569 , 0.9960785 , 0.91372555, 0.48235297, 0.        ,\n",
       "       0.        , 0.        , 0.        , 0.        , 0.        ,\n",
       "       0.        , 0.        , 0.        , 0.        , 0.        ,\n",
       "       0.        , 0.        , 0.        , 0.        , 0.        ,\n",
       "       0.        , 0.        , 0.        , 0.59607846, 0.98823535,\n",
       "       0.9921569 , 0.98823535, 0.9921569 , 0.98823535, 0.75294125,\n",
       "       0.19607845, 0.        , 0.        , 0.        , 0.        ,\n",
       "       0.        , 0.        , 0.        , 0.        , 0.        ,\n",
       "       0.        , 0.        , 0.        , 0.        , 0.        ,\n",
       "       0.        , 0.        , 0.        , 0.        , 0.        ,\n",
       "       0.        , 0.24313727, 0.7176471 , 0.7960785 , 0.95294124,\n",
       "       0.9960785 , 0.9921569 , 0.24313727, 0.        , 0.        ,\n",
       "       0.        , 0.        , 0.        , 0.        , 0.        ,\n",
       "       0.        , 0.        , 0.        , 0.        , 0.        ,\n",
       "       0.        , 0.        , 0.        , 0.        , 0.        ,\n",
       "       0.        , 0.        , 0.        , 0.        , 0.        ,\n",
       "       0.        , 0.        , 0.15686275, 0.6745098 , 0.98823535,\n",
       "       0.7960785 , 0.07843138, 0.        , 0.        , 0.        ,\n",
       "       0.        , 0.        , 0.        , 0.        , 0.        ,\n",
       "       0.        , 0.        , 0.        , 0.        , 0.        ,\n",
       "       0.        , 0.        , 0.08235294, 0.        , 0.        ,\n",
       "       0.        , 0.        , 0.        , 0.        , 0.        ,\n",
       "       0.        , 0.        , 0.7176471 , 0.9960785 , 0.43921572,\n",
       "       0.        , 0.        , 0.        , 0.        , 0.        ,\n",
       "       0.        , 0.        , 0.        , 0.        , 0.        ,\n",
       "       0.        , 0.        , 0.        , 0.        , 0.24313727,\n",
       "       0.7960785 , 0.6392157 , 0.        , 0.        , 0.        ,\n",
       "       0.        , 0.        , 0.        , 0.        , 0.        ,\n",
       "       0.2392157 , 0.9921569 , 0.5921569 , 0.        , 0.        ,\n",
       "       0.        , 0.        , 0.        , 0.        , 0.        ,\n",
       "       0.        , 0.        , 0.        , 0.        , 0.        ,\n",
       "       0.        , 0.08235294, 0.83921576, 0.75294125, 0.        ,\n",
       "       0.        , 0.        , 0.        , 0.        , 0.        ,\n",
       "       0.        , 0.        , 0.04313726, 0.8352942 , 0.9960785 ,\n",
       "       0.5921569 , 0.        , 0.        , 0.        , 0.        ,\n",
       "       0.        , 0.        , 0.        , 0.        , 0.        ,\n",
       "       0.        , 0.        , 0.        , 0.        , 0.40000004,\n",
       "       0.9921569 , 0.5921569 , 0.        , 0.        , 0.        ,\n",
       "       0.        , 0.        , 0.        , 0.        , 0.16078432,\n",
       "       0.8352942 , 0.98823535, 0.9921569 , 0.43529415, 0.        ,\n",
       "       0.        , 0.        , 0.        , 0.        , 0.        ,\n",
       "       0.        , 0.        , 0.        , 0.        , 0.        ,\n",
       "       0.        , 0.        , 0.16078432, 1.        , 0.8352942 ,\n",
       "       0.36078432, 0.20000002, 0.        , 0.        , 0.12156864,\n",
       "       0.36078432, 0.6784314 , 0.9921569 , 0.9960785 , 0.9921569 ,\n",
       "       0.5568628 , 0.        , 0.        , 0.        , 0.        ,\n",
       "       0.        , 0.        , 0.        , 0.        , 0.        ,\n",
       "       0.        , 0.        , 0.        , 0.        , 0.        ,\n",
       "       0.        , 0.6745098 , 0.98823535, 0.9921569 , 0.98823535,\n",
       "       0.7960785 , 0.7960785 , 0.91372555, 0.98823535, 0.9921569 ,\n",
       "       0.98823535, 0.9921569 , 0.50980395, 0.07843138, 0.        ,\n",
       "       0.        , 0.        , 0.        , 0.        , 0.        ,\n",
       "       0.        , 0.        , 0.        , 0.        , 0.        ,\n",
       "       0.        , 0.        , 0.        , 0.        , 0.08235294,\n",
       "       0.7960785 , 1.        , 0.9921569 , 0.9960785 , 0.9921569 ,\n",
       "       0.9960785 , 0.9921569 , 0.9568628 , 0.7960785 , 0.32156864,\n",
       "       0.        , 0.        , 0.        , 0.        , 0.        ,\n",
       "       0.        , 0.        , 0.        , 0.        , 0.        ,\n",
       "       0.        , 0.        , 0.        , 0.        , 0.        ,\n",
       "       0.        , 0.        , 0.        , 0.07843138, 0.5921569 ,\n",
       "       0.5921569 , 0.9921569 , 0.67058825, 0.5921569 , 0.5921569 ,\n",
       "       0.15686275, 0.        , 0.        , 0.        , 0.        ,\n",
       "       0.        , 0.        , 0.        , 0.        , 0.        ,\n",
       "       0.        , 0.        , 0.        , 0.        , 0.        ,\n",
       "       0.        , 0.        , 0.        , 0.        , 0.        ,\n",
       "       0.        , 0.        , 0.        , 0.        , 0.        ,\n",
       "       0.        , 0.        , 0.        , 0.        , 0.        ,\n",
       "       0.        , 0.        , 0.        , 0.        , 0.        ,\n",
       "       0.        , 0.        , 0.        , 0.        , 0.        ,\n",
       "       0.        , 0.        , 0.        , 0.        , 0.        ,\n",
       "       0.        , 0.        , 0.        , 0.        , 0.        ,\n",
       "       0.        , 0.        , 0.        , 0.        , 0.        ,\n",
       "       0.        , 0.        , 0.        , 0.        , 0.        ,\n",
       "       0.        , 0.        , 0.        , 0.        , 0.        ,\n",
       "       0.        , 0.        , 0.        , 0.        , 0.        ,\n",
       "       0.        , 0.        , 0.        , 0.        , 0.        ,\n",
       "       0.        , 0.        , 0.        , 0.        , 0.        ,\n",
       "       0.        , 0.        , 0.        , 0.        , 0.        ,\n",
       "       0.        , 0.        , 0.        , 0.        , 0.        ,\n",
       "       0.        , 0.        , 0.        , 0.        , 0.        ,\n",
       "       0.        , 0.        , 0.        , 0.        ], dtype=float32)"
      ]
     },
     "execution_count": 3,
     "metadata": {},
     "output_type": "execute_result"
    }
   ],
   "source": [
    "mnist.train.images[1]"
   ]
  },
  {
   "cell_type": "code",
   "execution_count": 4,
   "metadata": {},
   "outputs": [],
   "source": [
    "x = tf.placeholder('float32', [None, 28*28], name='x')\n",
    "y = tf.placeholder('float32', [None, 10], name='y')"
   ]
  },
  {
   "cell_type": "markdown",
   "metadata": {},
   "source": [
    "创建学习变量、权重和偏置"
   ]
  },
  {
   "cell_type": "code",
   "execution_count": 5,
   "metadata": {},
   "outputs": [],
   "source": [
    "W = tf.Variable(tf.zeros([784, 10]), name='weight')\n",
    "bias = tf.Variable(tf.zeros([10]), name='bias')"
   ]
  },
  {
   "cell_type": "markdown",
   "metadata": {},
   "source": [
    "创建逻辑回归模型"
   ]
  },
  {
   "cell_type": "code",
   "execution_count": 6,
   "metadata": {},
   "outputs": [],
   "source": [
    "y_hat = tf.nn.softmax(tf.matmul(x, W)+bias)"
   ]
  },
  {
   "cell_type": "markdown",
   "metadata": {},
   "source": [
    "定义损失函数"
   ]
  },
  {
   "cell_type": "code",
   "execution_count": 7,
   "metadata": {},
   "outputs": [],
   "source": [
    "loss = tf.reduce_mean(tf.nn.softmax_cross_entropy_with_logits_v2(labels=y, logits=y_hat))"
   ]
  },
  {
   "cell_type": "markdown",
   "metadata": {},
   "source": [
    "添加summary"
   ]
  },
  {
   "cell_type": "code",
   "execution_count": 8,
   "metadata": {},
   "outputs": [
    {
     "data": {
      "text/plain": [
       "<tf.Tensor 'loss:0' shape=() dtype=string>"
      ]
     },
     "execution_count": 8,
     "metadata": {},
     "output_type": "execute_result"
    }
   ],
   "source": [
    "w_h = tf.summary.histogram('weights', W)\n",
    "b_h = tf.summary.histogram('bias', bias)\n",
    "\n",
    "tf.summary.scalar('loss', loss)"
   ]
  },
  {
   "cell_type": "markdown",
   "metadata": {},
   "source": [
    "定义优化器"
   ]
  },
  {
   "cell_type": "code",
   "execution_count": 9,
   "metadata": {},
   "outputs": [],
   "source": [
    "optimizer = tf.train.GradientDescentOptimizer(learning_rate=0.01).minimize(loss)"
   ]
  },
  {
   "cell_type": "markdown",
   "metadata": {},
   "source": [
    "初始化变量"
   ]
  },
  {
   "cell_type": "code",
   "execution_count": 10,
   "metadata": {},
   "outputs": [],
   "source": [
    "init = tf.global_variables_initializer()"
   ]
  },
  {
   "cell_type": "markdown",
   "metadata": {},
   "source": [
    "组合所有的summary操作"
   ]
  },
  {
   "cell_type": "code",
   "execution_count": 11,
   "metadata": {},
   "outputs": [],
   "source": [
    "merged_summary_op = tf.summary.merge_all()"
   ]
  },
  {
   "cell_type": "markdown",
   "metadata": {},
   "source": [
    "定义评估函数"
   ]
  },
  {
   "cell_type": "code",
   "execution_count": 12,
   "metadata": {},
   "outputs": [],
   "source": [
    "accuracy = tf.reduce_mean(tf.cast(tf.equal(tf.argmax(y, 1), tf.argmax(y_hat,1)), 'float32'))"
   ]
  },
  {
   "cell_type": "markdown",
   "metadata": {},
   "source": [
    "定义会话并将所有的summary存储在定义的文件夹中"
   ]
  },
  {
   "cell_type": "code",
   "execution_count": 13,
   "metadata": {},
   "outputs": [
    {
     "name": "stdout",
     "output_type": "stream",
     "text": [
      "Epoch 0: Loss 2.2884286775767246\n",
      "Epoch 1: Loss 2.2429473946027665\n",
      "Epoch 2: Loss 2.183812643880042\n",
      "Epoch 3: Loss 2.11294673647836\n",
      "Epoch 4: Loss 2.046925547524033\n",
      "Epoch 5: Loss 1.9970453114153068\n",
      "Epoch 6: Loss 1.9565557029759773\n",
      "Epoch 7: Loss 1.9223848380775095\n",
      "Epoch 8: Loss 1.8941964763347234\n",
      "Epoch 9: Loss 1.8707730513866816\n",
      "Epoch 10: Loss 1.8503968058345475\n",
      "Epoch 11: Loss 1.8340228077407195\n",
      "Epoch 12: Loss 1.8200792224607736\n",
      "Epoch 13: Loss 1.807920060982214\n",
      "Epoch 14: Loss 1.7985001763450765\n",
      "Epoch 15: Loss 1.78774631636165\n",
      "Epoch 16: Loss 1.7815833587512793\n",
      "Epoch 17: Loss 1.773886711240929\n",
      "Epoch 18: Loss 1.76756207408192\n",
      "Epoch 19: Loss 1.7617986441772675\n",
      "Epoch 20: Loss 1.7573749272622794\n",
      "Epoch 21: Loss 1.7528326511383057\n",
      "Epoch 22: Loss 1.7477481198088032\n",
      "Epoch 23: Loss 1.744238089735263\n",
      "Epoch 24: Loss 1.7408750241047868\n",
      "Epoch 25: Loss 1.7374826730968795\n",
      "Epoch 26: Loss 1.7328503065020124\n",
      "Epoch 27: Loss 1.7321737765151763\n",
      "Epoch 28: Loss 1.7281159836555195\n",
      "Epoch 29: Loss 1.7264692387848257\n",
      "Epoch 30: Loss 1.7225676050810057\n",
      "Epoch 31: Loss 1.7222753256280845\n",
      "Epoch 32: Loss 1.719283872675673\n",
      "Epoch 33: Loss 1.716867487564265\n",
      "Epoch 34: Loss 1.715136659479587\n",
      "Epoch 35: Loss 1.7149738257176408\n",
      "Epoch 36: Loss 1.7112200327008684\n",
      "Epoch 37: Loss 1.7102667577912873\n",
      "Epoch 38: Loss 1.708238757102289\n",
      "Epoch 39: Loss 1.70728448172596\n",
      "Epoch 40: Loss 1.7053649029999136\n",
      "Epoch 41: Loss 1.704870870180219\n",
      "Epoch 42: Loss 1.702131379987592\n",
      "Epoch 43: Loss 1.7021364157444963\n",
      "Epoch 44: Loss 1.70067360690821\n",
      "Epoch 45: Loss 1.6982189689841225\n",
      "Epoch 46: Loss 1.6997589585937072\n",
      "Epoch 47: Loss 1.6955119143022555\n",
      "Epoch 48: Loss 1.6967530768608379\n",
      "Epoch 49: Loss 1.6952535086703078\n",
      "Epoch 50: Loss 1.6932922807809347\n",
      "Epoch 51: Loss 1.694429460529969\n",
      "Epoch 52: Loss 1.6908335407203603\n",
      "Epoch 53: Loss 1.6903541405624318\n",
      "Epoch 54: Loss 1.6916818579780721\n",
      "Epoch 55: Loss 1.6883612899022682\n",
      "Epoch 56: Loss 1.687843323310959\n",
      "Epoch 57: Loss 1.6875224386420205\n",
      "Epoch 58: Loss 1.6866294919887437\n",
      "Epoch 59: Loss 1.6868535107541307\n",
      "Epoch 60: Loss 1.683266682045482\n",
      "Epoch 61: Loss 1.685977471209018\n",
      "Epoch 62: Loss 1.6831584483663613\n",
      "Epoch 63: Loss 1.6820024658586377\n",
      "Epoch 64: Loss 1.6809479265569527\n",
      "Epoch 65: Loss 1.6796679179245066\n",
      "Epoch 66: Loss 1.6796239820596213\n",
      "Epoch 67: Loss 1.6767616895871742\n",
      "Epoch 68: Loss 1.6750677188980245\n",
      "Epoch 69: Loss 1.6720238667782221\n",
      "Epoch 70: Loss 1.6697448235805903\n",
      "Epoch 71: Loss 1.6651874724949631\n",
      "Epoch 72: Loss 1.6652641056854034\n",
      "Epoch 73: Loss 1.6622502631116136\n",
      "Epoch 74: Loss 1.659422584783251\n",
      "Epoch 75: Loss 1.6588934654387357\n",
      "Epoch 76: Loss 1.656547829926571\n",
      "Epoch 77: Loss 1.6542458940889233\n",
      "Epoch 78: Loss 1.6531279683113098\n",
      "Epoch 79: Loss 1.6516493330492037\n",
      "Epoch 80: Loss 1.6503393015014791\n",
      "Epoch 81: Loss 1.6498128376274466\n",
      "Epoch 82: Loss 1.64561430706042\n",
      "Epoch 83: Loss 1.6464898402445785\n",
      "Epoch 84: Loss 1.6428340924120395\n",
      "Epoch 85: Loss 1.6429616563788085\n",
      "Epoch 86: Loss 1.6403374800058168\n",
      "Epoch 87: Loss 1.6394331366102273\n",
      "Epoch 88: Loss 1.6389259701577303\n",
      "Epoch 89: Loss 1.637001419735846\n",
      "Epoch 90: Loss 1.636592263373259\n",
      "Epoch 91: Loss 1.6341068934057361\n",
      "Epoch 92: Loss 1.6328056009016305\n",
      "Epoch 93: Loss 1.6333425373674553\n",
      "Epoch 94: Loss 1.6317834196803727\n",
      "Epoch 95: Loss 1.6295416505537301\n",
      "Epoch 96: Loss 1.6301646561266105\n",
      "Epoch 97: Loss 1.628137948914109\n",
      "Epoch 98: Loss 1.6288098096847534\n",
      "Epoch 99: Loss 1.626098505804472\n",
      "Epoch 100: Loss 1.6257209811255195\n",
      "Epoch 101: Loss 1.6273143241338641\n",
      "Epoch 102: Loss 1.6236994817992236\n",
      "Epoch 103: Loss 1.6249080690268045\n",
      "Epoch 104: Loss 1.6225919996466591\n",
      "Epoch 105: Loss 1.6221400237529078\n",
      "Epoch 106: Loss 1.6227924818190458\n",
      "Epoch 107: Loss 1.6218419470519663\n",
      "Epoch 108: Loss 1.6206240074656835\n",
      "Epoch 109: Loss 1.6195289319920763\n",
      "Epoch 110: Loss 1.6190402975706297\n",
      "Epoch 111: Loss 1.619610252781449\n",
      "Epoch 112: Loss 1.6187308486376968\n",
      "Epoch 113: Loss 1.6191110956334622\n",
      "Epoch 114: Loss 1.6188630678943385\n",
      "Epoch 115: Loss 1.6168393654243969\n",
      "Epoch 116: Loss 1.6158768902315157\n",
      "Epoch 117: Loss 1.6170772631591726\n",
      "Epoch 118: Loss 1.616416116741216\n",
      "Epoch 119: Loss 1.6135619377421442\n",
      "Epoch 120: Loss 1.616324327816473\n",
      "Epoch 121: Loss 1.6135127043055597\n",
      "Epoch 122: Loss 1.613699830024042\n",
      "Epoch 123: Loss 1.6141102514534353\n",
      "Epoch 124: Loss 1.6124932949788102\n",
      "Epoch 125: Loss 1.6134034540051612\n",
      "Epoch 126: Loss 1.6113980234226333\n",
      "Epoch 127: Loss 1.6124078575695786\n",
      "Epoch 128: Loss 1.6118356056302507\n",
      "Epoch 129: Loss 1.610308589779328\n",
      "Epoch 130: Loss 1.6111733044419334\n",
      "Epoch 131: Loss 1.6106786321256763\n",
      "Epoch 132: Loss 1.609564162303354\n",
      "Epoch 133: Loss 1.6095300244393749\n",
      "Epoch 134: Loss 1.6094578888928779\n",
      "Epoch 135: Loss 1.6099203902984334\n",
      "Epoch 136: Loss 1.6091460000688784\n",
      "Epoch 137: Loss 1.607810600895748\n",
      "Epoch 138: Loss 1.6068373055101555\n",
      "Epoch 139: Loss 1.6078378352049356\n",
      "Epoch 140: Loss 1.6077138792688601\n",
      "Epoch 141: Loss 1.6073413235004816\n",
      "Epoch 142: Loss 1.6064033887096654\n",
      "Epoch 143: Loss 1.606890345845267\n",
      "Epoch 144: Loss 1.6047128076865294\n",
      "Epoch 145: Loss 1.6077838434237186\n",
      "Epoch 146: Loss 1.604738209849206\n",
      "Epoch 147: Loss 1.604886418191072\n",
      "Epoch 148: Loss 1.604977941401651\n",
      "Epoch 149: Loss 1.604379024461051\n",
      "Epoch 150: Loss 1.6047789900102347\n",
      "Epoch 151: Loss 1.604050001808416\n",
      "Epoch 152: Loss 1.6041669255105135\n",
      "Epoch 153: Loss 1.6025898451002958\n",
      "Epoch 154: Loss 1.6031210918292822\n",
      "Epoch 155: Loss 1.603576894118407\n",
      "Epoch 156: Loss 1.6036137921787867\n",
      "Epoch 157: Loss 1.6018302279098011\n",
      "Epoch 158: Loss 1.6025781592476034\n",
      "Epoch 159: Loss 1.6007278728707928\n",
      "Epoch 160: Loss 1.6030571299178578\n",
      "Epoch 161: Loss 1.6019115063631646\n",
      "Epoch 162: Loss 1.6007044443460268\n",
      "Epoch 163: Loss 1.6010493881234498\n",
      "Epoch 164: Loss 1.601076755011193\n",
      "Epoch 165: Loss 1.6005537643610874\n",
      "Epoch 166: Loss 1.5991347337437567\n",
      "Epoch 167: Loss 1.6004011218792924\n",
      "Epoch 168: Loss 1.600949545887029\n",
      "Epoch 169: Loss 1.5992711080568973\n",
      "Epoch 170: Loss 1.599052378507418\n",
      "Epoch 171: Loss 1.5988466427705\n",
      "Epoch 172: Loss 1.59872941324644\n",
      "Epoch 173: Loss 1.599680197016101\n",
      "Epoch 174: Loss 1.598370436753068\n",
      "Epoch 175: Loss 1.5979490959755729\n",
      "Epoch 176: Loss 1.5990998433015058\n",
      "Epoch 177: Loss 1.5955703537040782\n",
      "Epoch 178: Loss 1.5991700347338882\n",
      "Epoch 179: Loss 1.5973827432249195\n",
      "Epoch 180: Loss 1.5975971210782773\n",
      "Epoch 181: Loss 1.5969580690437388\n",
      "Epoch 182: Loss 1.596806080541878\n",
      "Epoch 183: Loss 1.5966962414367176\n",
      "Epoch 184: Loss 1.597187767519015\n",
      "Epoch 185: Loss 1.5960835625078076\n",
      "Epoch 186: Loss 1.5962235504221693\n",
      "Epoch 187: Loss 1.5948837678009105\n",
      "Epoch 188: Loss 1.5960573470481088\n",
      "Epoch 189: Loss 1.595275583111237\n",
      "Epoch 190: Loss 1.5963050366562104\n",
      "Epoch 191: Loss 1.5945230638869454\n",
      "Epoch 192: Loss 1.594978801557951\n",
      "Epoch 193: Loss 1.5955174236654122\n",
      "Epoch 194: Loss 1.5938063999202763\n",
      "Epoch 195: Loss 1.5950440898119846\n",
      "Epoch 196: Loss 1.5951229038639603\n",
      "Epoch 197: Loss 1.5934461204805106\n",
      "Epoch 198: Loss 1.5943811145898337\n",
      "Epoch 199: Loss 1.593323640177183\n",
      "Finished\n",
      "0.9054\n"
     ]
    }
   ],
   "source": [
    "with tf.Session() as sess:\n",
    "    sess.run(init)\n",
    "    summary_writer = tf.summary.FileWriter('log/mnist_soft_regression', sess.graph)\n",
    "    \n",
    "    # train\n",
    "    for epoch in range(200):\n",
    "        loss_avg = 0\n",
    "        batch_size = 256\n",
    "        num_of_batch = int(mnist.train.num_examples/batch_size)\n",
    "        for i in range(num_of_batch):\n",
    "            batch_x, batch_y = mnist.train.next_batch(batch_size)\n",
    "            _, l, summary_str = sess.run([optimizer, loss, merged_summary_op], feed_dict={x: batch_x, y: batch_y})\n",
    "            loss_avg += l\n",
    "            summary_writer.add_summary(summary_str, epoch*batch_size+i)\n",
    "        loss_avg = loss_avg / num_of_batch\n",
    "        print('Epoch {0}: Loss {1}'.format(epoch, loss_avg))\n",
    "    \n",
    "    print('Finished')\n",
    "    print(sess.run(accuracy, feed_dict={x: mnist.test.images, y: mnist.test.labels}))"
   ]
  },
  {
   "cell_type": "code",
   "execution_count": null,
   "metadata": {},
   "outputs": [],
   "source": []
  }
 ],
 "metadata": {
  "kernelspec": {
   "display_name": "tensorflow",
   "language": "python",
   "name": "tensorflow"
  },
  "language_info": {
   "codemirror_mode": {
    "name": "ipython",
    "version": 3
   },
   "file_extension": ".py",
   "mimetype": "text/x-python",
   "name": "python",
   "nbconvert_exporter": "python",
   "pygments_lexer": "ipython3",
   "version": "3.6.10"
  }
 },
 "nbformat": 4,
 "nbformat_minor": 4
}
